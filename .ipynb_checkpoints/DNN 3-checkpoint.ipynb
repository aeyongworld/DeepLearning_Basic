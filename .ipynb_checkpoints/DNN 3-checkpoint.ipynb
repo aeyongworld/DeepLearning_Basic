{
 "cells": [
  {
   "cell_type": "code",
   "execution_count": 11,
   "id": "6e446529",
   "metadata": {},
   "outputs": [],
   "source": [
    "%matplotlib inline\n",
    "import matplotlib.pyplot as plt\n",
    "import numpy as np\n",
    "import pandas as pd\n",
    "from keras.layers import *\n",
    "from keras.models import *\n",
    "from keras.utils import *\n",
    "from sklearn.preprocessing import *\n",
    "import seaborn as sns"
   ]
  },
  {
   "cell_type": "code",
   "execution_count": 21,
   "id": "5ae8a30a",
   "metadata": {},
   "outputs": [],
   "source": [
    "\n",
    "\n",
    "\n",
    "df = pd.read_csv('adult.data', index_col=False, names=['age', 'work', 'fnlwgt', 'education', 'education-num', 'mari', 'occupation', 'relationship', 'race', 'sex', 'cg', 'cl', 'hw', 'na', '5k'])\n"
   ]
  },
  {
   "cell_type": "code",
   "execution_count": 41,
   "id": "29d1af14",
   "metadata": {},
   "outputs": [
    {
     "name": "stdout",
     "output_type": "stream",
     "text": [
      "[[0. 1.]\n",
      " [0. 1.]\n",
      " [0. 1.]\n",
      " ...\n",
      " [0. 1.]\n",
      " [0. 1.]\n",
      " [1. 0.]]\n"
     ]
    }
   ],
   "source": [
    "# sns.countplot(x = '5k', hue='sex', data=df)\n",
    "# sns.heatmap(df.corr(), annot=True, cmap='summer_r', linewidths=0.2)\n",
    "# plt.figure(figsize=(10,10))\n",
    "# sns.violinplot(x = 'race', y = 'age', hue='5k', data=df, split=True)\n",
    "\n",
    "Y = df['5k'].values.tolist()\n",
    "Y = [1 if i == ' <=50K' else 0 for i in Y]\n",
    "Y = to_categorical(Y)\n",
    "print(Y)\n"
   ]
  },
  {
   "cell_type": "code",
   "execution_count": 50,
   "id": "4967eae8",
   "metadata": {},
   "outputs": [
    {
     "data": {
      "text/html": [
       "<div>\n",
       "<style scoped>\n",
       "    .dataframe tbody tr th:only-of-type {\n",
       "        vertical-align: middle;\n",
       "    }\n",
       "\n",
       "    .dataframe tbody tr th {\n",
       "        vertical-align: top;\n",
       "    }\n",
       "\n",
       "    .dataframe thead th {\n",
       "        text-align: right;\n",
       "    }\n",
       "</style>\n",
       "<table border=\"1\" class=\"dataframe\">\n",
       "  <thead>\n",
       "    <tr style=\"text-align: right;\">\n",
       "      <th></th>\n",
       "      <th>work_ Federal-gov</th>\n",
       "      <th>work_ Local-gov</th>\n",
       "      <th>work_ Never-worked</th>\n",
       "      <th>work_ Private</th>\n",
       "      <th>work_ Self-emp-inc</th>\n",
       "      <th>work_ Self-emp-not-inc</th>\n",
       "      <th>work_ State-gov</th>\n",
       "      <th>work_ Without-pay</th>\n",
       "      <th>education_ 11th</th>\n",
       "      <th>education_ 12th</th>\n",
       "      <th>...</th>\n",
       "      <th>na_ Trinadad&amp;Tobago</th>\n",
       "      <th>na_ United-States</th>\n",
       "      <th>na_ Vietnam</th>\n",
       "      <th>na_ Yugoslavia</th>\n",
       "      <th>age</th>\n",
       "      <th>fnlwgt</th>\n",
       "      <th>education-num</th>\n",
       "      <th>cg</th>\n",
       "      <th>cl</th>\n",
       "      <th>hw</th>\n",
       "    </tr>\n",
       "  </thead>\n",
       "  <tbody>\n",
       "    <tr>\n",
       "      <th>0</th>\n",
       "      <td>0</td>\n",
       "      <td>0</td>\n",
       "      <td>0</td>\n",
       "      <td>0</td>\n",
       "      <td>0</td>\n",
       "      <td>0</td>\n",
       "      <td>1</td>\n",
       "      <td>0</td>\n",
       "      <td>0</td>\n",
       "      <td>0</td>\n",
       "      <td>...</td>\n",
       "      <td>0</td>\n",
       "      <td>1</td>\n",
       "      <td>0</td>\n",
       "      <td>0</td>\n",
       "      <td>0.301370</td>\n",
       "      <td>0.044302</td>\n",
       "      <td>0.800000</td>\n",
       "      <td>0.02174</td>\n",
       "      <td>0.0</td>\n",
       "      <td>0.397959</td>\n",
       "    </tr>\n",
       "    <tr>\n",
       "      <th>1</th>\n",
       "      <td>0</td>\n",
       "      <td>0</td>\n",
       "      <td>0</td>\n",
       "      <td>0</td>\n",
       "      <td>0</td>\n",
       "      <td>1</td>\n",
       "      <td>0</td>\n",
       "      <td>0</td>\n",
       "      <td>0</td>\n",
       "      <td>0</td>\n",
       "      <td>...</td>\n",
       "      <td>0</td>\n",
       "      <td>1</td>\n",
       "      <td>0</td>\n",
       "      <td>0</td>\n",
       "      <td>0.452055</td>\n",
       "      <td>0.048238</td>\n",
       "      <td>0.800000</td>\n",
       "      <td>0.00000</td>\n",
       "      <td>0.0</td>\n",
       "      <td>0.122449</td>\n",
       "    </tr>\n",
       "    <tr>\n",
       "      <th>2</th>\n",
       "      <td>0</td>\n",
       "      <td>0</td>\n",
       "      <td>0</td>\n",
       "      <td>1</td>\n",
       "      <td>0</td>\n",
       "      <td>0</td>\n",
       "      <td>0</td>\n",
       "      <td>0</td>\n",
       "      <td>0</td>\n",
       "      <td>0</td>\n",
       "      <td>...</td>\n",
       "      <td>0</td>\n",
       "      <td>1</td>\n",
       "      <td>0</td>\n",
       "      <td>0</td>\n",
       "      <td>0.287671</td>\n",
       "      <td>0.138113</td>\n",
       "      <td>0.533333</td>\n",
       "      <td>0.00000</td>\n",
       "      <td>0.0</td>\n",
       "      <td>0.397959</td>\n",
       "    </tr>\n",
       "    <tr>\n",
       "      <th>3</th>\n",
       "      <td>0</td>\n",
       "      <td>0</td>\n",
       "      <td>0</td>\n",
       "      <td>1</td>\n",
       "      <td>0</td>\n",
       "      <td>0</td>\n",
       "      <td>0</td>\n",
       "      <td>0</td>\n",
       "      <td>1</td>\n",
       "      <td>0</td>\n",
       "      <td>...</td>\n",
       "      <td>0</td>\n",
       "      <td>1</td>\n",
       "      <td>0</td>\n",
       "      <td>0</td>\n",
       "      <td>0.493151</td>\n",
       "      <td>0.151068</td>\n",
       "      <td>0.400000</td>\n",
       "      <td>0.00000</td>\n",
       "      <td>0.0</td>\n",
       "      <td>0.397959</td>\n",
       "    </tr>\n",
       "    <tr>\n",
       "      <th>4</th>\n",
       "      <td>0</td>\n",
       "      <td>0</td>\n",
       "      <td>0</td>\n",
       "      <td>1</td>\n",
       "      <td>0</td>\n",
       "      <td>0</td>\n",
       "      <td>0</td>\n",
       "      <td>0</td>\n",
       "      <td>0</td>\n",
       "      <td>0</td>\n",
       "      <td>...</td>\n",
       "      <td>0</td>\n",
       "      <td>0</td>\n",
       "      <td>0</td>\n",
       "      <td>0</td>\n",
       "      <td>0.150685</td>\n",
       "      <td>0.221488</td>\n",
       "      <td>0.800000</td>\n",
       "      <td>0.00000</td>\n",
       "      <td>0.0</td>\n",
       "      <td>0.397959</td>\n",
       "    </tr>\n",
       "  </tbody>\n",
       "</table>\n",
       "<p>5 rows × 100 columns</p>\n",
       "</div>"
      ],
      "text/plain": [
       "   work_ Federal-gov  work_ Local-gov  work_ Never-worked  work_ Private  \\\n",
       "0                  0                0                   0              0   \n",
       "1                  0                0                   0              0   \n",
       "2                  0                0                   0              1   \n",
       "3                  0                0                   0              1   \n",
       "4                  0                0                   0              1   \n",
       "\n",
       "   work_ Self-emp-inc  work_ Self-emp-not-inc  work_ State-gov  \\\n",
       "0                   0                       0                1   \n",
       "1                   0                       1                0   \n",
       "2                   0                       0                0   \n",
       "3                   0                       0                0   \n",
       "4                   0                       0                0   \n",
       "\n",
       "   work_ Without-pay  education_ 11th  education_ 12th  ...  \\\n",
       "0                  0                0                0  ...   \n",
       "1                  0                0                0  ...   \n",
       "2                  0                0                0  ...   \n",
       "3                  0                1                0  ...   \n",
       "4                  0                0                0  ...   \n",
       "\n",
       "   na_ Trinadad&Tobago  na_ United-States  na_ Vietnam  na_ Yugoslavia  \\\n",
       "0                    0                  1            0               0   \n",
       "1                    0                  1            0               0   \n",
       "2                    0                  1            0               0   \n",
       "3                    0                  1            0               0   \n",
       "4                    0                  0            0               0   \n",
       "\n",
       "        age    fnlwgt  education-num       cg   cl        hw  \n",
       "0  0.301370  0.044302       0.800000  0.02174  0.0  0.397959  \n",
       "1  0.452055  0.048238       0.800000  0.00000  0.0  0.122449  \n",
       "2  0.287671  0.138113       0.533333  0.00000  0.0  0.397959  \n",
       "3  0.493151  0.151068       0.400000  0.00000  0.0  0.397959  \n",
       "4  0.150685  0.221488       0.800000  0.00000  0.0  0.397959  \n",
       "\n",
       "[5 rows x 100 columns]"
      ]
     },
     "execution_count": 50,
     "metadata": {},
     "output_type": "execute_result"
    }
   ],
   "source": [
    "X = df.drop(['age', 'fnlwgt', 'education-num', 'cg', 'cl', 'hw', '5k'], axis=1)\n",
    "\n",
    "X = pd.get_dummies(X, drop_first=True)\n",
    "X = pd.concat([X, df[['age', 'fnlwgt', 'education-num', 'cg', 'cl', 'hw']]], axis=1)\n",
    "\n",
    "scaler = MinMaxScaler()\n",
    "\n",
    "X[['age', 'fnlwgt', 'education-num', 'cg', 'cl', 'hw']] = scaler.fit_transform(X[['age', 'fnlwgt', 'education-num', 'cg', 'cl', 'hw']])\n",
    "\n",
    "X\n",
    "Y"
   ]
  },
  {
   "cell_type": "code",
   "execution_count": 53,
   "id": "a60cbe9d",
   "metadata": {},
   "outputs": [
    {
     "data": {
      "text/plain": [
       "(1000, 100)"
      ]
     },
     "execution_count": 53,
     "metadata": {},
     "output_type": "execute_result"
    }
   ],
   "source": [
    "X_train = X[:-1000]\n",
    "X_test = X[-1000:]\n",
    "\n",
    "Y_train = Y[:-1000]\n",
    "Y_test = Y[-1000:]\n",
    "\n",
    "X_test.shape"
   ]
  },
  {
   "cell_type": "code",
   "execution_count": 62,
   "id": "712a44bd",
   "metadata": {},
   "outputs": [
    {
     "name": "stdout",
     "output_type": "stream",
     "text": [
      "Model: \"sequential_4\"\n",
      "_________________________________________________________________\n",
      " Layer (type)                Output Shape              Param #   \n",
      "=================================================================\n",
      " dense_13 (Dense)            (None, 1024)              103424    \n",
      "                                                                 \n",
      " dense_14 (Dense)            (None, 512)               524800    \n",
      "                                                                 \n",
      " dense_15 (Dense)            (None, 128)               65664     \n",
      "                                                                 \n",
      " dense_16 (Dense)            (None, 2)                 258       \n",
      "                                                                 \n",
      "=================================================================\n",
      "Total params: 694,146\n",
      "Trainable params: 694,146\n",
      "Non-trainable params: 0\n",
      "_________________________________________________________________\n",
      "Epoch 1/5\n",
      "789/789 [==============================] - 8s 9ms/step - loss: 0.4272 - acc: 0.8013 - val_loss: 0.3786 - val_acc: 0.8273\n",
      "Epoch 2/5\n",
      "789/789 [==============================] - 7s 9ms/step - loss: 0.3657 - acc: 0.8319 - val_loss: 0.3653 - val_acc: 0.8294\n",
      "Epoch 3/5\n",
      "789/789 [==============================] - 8s 10ms/step - loss: 0.3539 - acc: 0.8352 - val_loss: 0.3515 - val_acc: 0.8337\n",
      "Epoch 4/5\n",
      "789/789 [==============================] - 7s 8ms/step - loss: 0.3469 - acc: 0.8370 - val_loss: 0.3462 - val_acc: 0.8413\n",
      "Epoch 5/5\n",
      "789/789 [==============================] - 6s 8ms/step - loss: 0.3426 - acc: 0.8391 - val_loss: 0.3433 - val_acc: 0.8463\n"
     ]
    }
   ],
   "source": [
    "model = Sequential()\n",
    "model.add(Dense(1024, activation='relu', input_shape=(100,)))\n",
    "model.add(Dense(512, activation='relu'))\n",
    "model.add(Dense(128, activation='relu'))\n",
    "model.add(Dense(2, activation='softmax'))\n",
    "\n",
    "model.summary()\n",
    "\n",
    "# adam\n",
    "model.compile(loss='categorical_crossentropy', optimizer='sgd', metrics=['acc'])\n",
    "\n",
    "# X_train <-- 0.2\n",
    "hist = model.fit(X_train, Y_train, epochs=5, validation_split=0.2)"
   ]
  },
  {
   "cell_type": "code",
   "execution_count": 63,
   "id": "cd93442a",
   "metadata": {},
   "outputs": [
    {
     "name": "stdout",
     "output_type": "stream",
     "text": [
      "{'loss': [0.42718762159347534, 0.36570030450820923, 0.3538563549518585, 0.3469444811344147, 0.3425951302051544], 'acc': [0.8013308048248291, 0.8318678736686707, 0.8352344632148743, 0.8370168209075928, 0.8391159772872925], 'val_loss': [0.3785845637321472, 0.36533451080322266, 0.35145944356918335, 0.34619230031967163, 0.3433246910572052], 'val_acc': [0.8273404240608215, 0.8293996453285217, 0.8336765170097351, 0.841279923915863, 0.8463488221168518]}\n"
     ]
    },
    {
     "data": {
      "text/plain": [
       "Text(0.5, 1.0, 'loss')"
      ]
     },
     "execution_count": 63,
     "metadata": {},
     "output_type": "execute_result"
    },
    {
     "data": {
      "image/png": "[encoded data removed]",
      "text/plain": [
       "<Figure size 1000x1000 with 2 Axes>"
      ]
     },
     "metadata": {},
     "output_type": "display_data"
    }
   ],
   "source": [
    "print(hist.history)\n",
    "\n",
    "plt.figure(figsize=(10,10))\n",
    "\n",
    "plt.subplot(1, 2, 1)\n",
    "plt.plot(hist.history['acc'], color='r')\n",
    "plt.plot(hist.history['val_acc'], color='b')\n",
    "plt.title('acc')\n",
    "\n",
    "plt.subplot(1, 2, 2)\n",
    "plt.plot(hist.history['loss'], color='r')\n",
    "plt.plot(hist.history['val_loss'], color='b')\n",
    "plt.title('loss')\n"
   ]
  },
  {
   "cell_type": "code",
   "execution_count": 65,
   "id": "8d4ebe86",
   "metadata": {},
   "outputs": [
    {
     "name": "stdout",
     "output_type": "stream",
     "text": [
      "32/32 [==============================] - 0s 5ms/step - loss: 0.3618 - acc: 0.8200\n",
      "32/32 [==============================] - 0s 4ms/step\n",
      "[[0.85699105 0.14300896]\n",
      " [0.05984474 0.94015527]\n",
      " [0.5211828  0.47881725]\n",
      " [0.05900725 0.9409928 ]\n",
      " [0.8713774  0.12862262]\n",
      " [0.0279775  0.97202253]\n",
      " [0.02220013 0.9777999 ]\n",
      " [0.01128934 0.9887107 ]\n",
      " [0.41434732 0.5856527 ]\n",
      " [0.01634849 0.9836516 ]]\n",
      "[[0. 1.]\n",
      " [0. 1.]\n",
      " [0. 1.]\n",
      " [0. 1.]\n",
      " [0. 1.]\n",
      " [0. 1.]\n",
      " [0. 1.]\n",
      " [1. 0.]\n",
      " [1. 0.]\n",
      " [1. 0.]]\n"
     ]
    }
   ],
   "source": [
    "score = model.evaluate(X_test, Y_test)\n",
    "pred = model.predict(X_test)\n",
    "# print(score)\n",
    "\n",
    "print(pred[:10])\n",
    "print(Y[:10])"
   ]
  },
  {
   "cell_type": "code",
   "execution_count": null,
   "id": "3a8c3825",
   "metadata": {},
   "outputs": [],
   "source": []
  }
 ],
 "metadata": {
  "kernelspec": {
   "display_name": "Python 3 (ipykernel)",
   "language": "python",
   "name": "python3"
  },
  "language_info": {
   "codemirror_mode": {
    "name": "ipython",
    "version": 3
   },
   "file_extension": ".py",
   "mimetype": "text/x-python",
   "name": "python",
   "nbconvert_exporter": "python",
   "pygments_lexer": "ipython3",
   "version": "3.10.9"
  }
 },
 "nbformat": 4,
 "nbformat_minor": 5
}
